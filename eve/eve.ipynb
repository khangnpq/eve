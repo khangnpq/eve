{
 "metadata": {
  "language_info": {
   "codemirror_mode": {
    "name": "ipython",
    "version": 3
   },
   "file_extension": ".py",
   "mimetype": "text/x-python",
   "name": "python",
   "nbconvert_exporter": "python",
   "pygments_lexer": "ipython3",
   "version": "3.8.5-final"
  },
  "orig_nbformat": 2,
  "kernelspec": {
   "name": "python3",
   "display_name": "Python 3",
   "language": "python"
  }
 },
 "nbformat": 4,
 "nbformat_minor": 2,
 "cells": [
  {
   "cell_type": "code",
   "execution_count": 1,
   "metadata": {},
   "outputs": [],
   "source": [
    "import requests\n",
    "import json\n",
    "resp = requests.get('http://13.212.181.246:5000/status')\n",
    "data = json.loads(resp.text)"
   ]
  },
  {
   "cell_type": "code",
   "execution_count": 22,
   "metadata": {},
   "outputs": [
    {
     "output_type": "stream",
     "name": "stdout",
     "text": [
      "png_q 100\npng_q 100\nmmpk_q 100\nmmpk_q 46\nkie_q 100\nkie_q 100\nxmi_ql 100\nxmi_ql 100\n"
     ]
    }
   ],
   "source": [
    "for key, val in data.items():\n",
    "    if val == 0:\n",
    "        continue\n",
    "    total = val\n",
    "    for i in range(2):\n",
    "        if total < 0:\n",
    "            break\n",
    "        elif total < 100:\n",
    "            print(key, total)\n",
    "        else:\n",
    "            print(key, 100)\n",
    "            total -= 100"
   ]
  },
  {
   "cell_type": "code",
   "execution_count": 2,
   "metadata": {},
   "outputs": [
    {
     "output_type": "execute_result",
     "data": {
      "text/plain": [
       "{'fcv_q': 0,\n",
       " 'fcv_ql': 0,\n",
       " 'nk_ql': 0,\n",
       " 'png_q': 0,\n",
       " 'png_ql': 0,\n",
       " 'mmpk_q': 0,\n",
       " 'mmpk_ql': 0,\n",
       " 'kie_q': 0,\n",
       " 'kie_ql': 0,\n",
       " 'xmi_q': 0,\n",
       " 'xmi_ql': 800,\n",
       " 'eve_q': 0}"
      ]
     },
     "metadata": {},
     "execution_count": 2
    }
   ],
   "source": [
    "data"
   ]
  },
  {
   "cell_type": "code",
   "execution_count": 10,
   "metadata": {},
   "outputs": [],
   "source": [
    "if ('name' == 'name') and False:\n",
    "    print('True')"
   ]
  },
  {
   "cell_type": "code",
   "execution_count": null,
   "metadata": {},
   "outputs": [],
   "source": []
  }
 ]
}